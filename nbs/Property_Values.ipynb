{
 "cells": [
  {
   "cell_type": "code",
   "execution_count": 48,
   "metadata": {},
   "outputs": [],
   "source": [
    "from bs4 import BeautifulSoup\n",
    "from collections import namedtuple\n",
    "import requests"
   ]
  },
  {
   "cell_type": "code",
   "execution_count": 88,
   "metadata": {},
   "outputs": [],
   "source": [
    "def get_property_by_id(prop_id):\n",
    "    url = f'https://jeffersonpva.ky.gov/property-search/property-details/{prop_id}'\n",
    "    response = requests.get(url)\n",
    "    results = BeautifulSoup(response.content, 'html.parser')\n",
    "    relevant_section = results.find_all('div', class_='site-content print-block')\n",
    "    address = relevant_section[0].find_all('h1')[0].get_text()\n",
    "    if address == \"\": return None\n",
    "    actual_info = relevant_section[0].find_all('dd', class_=\"result\")\n",
    "    parsed_info = [item.get_text() for item in actual_info]\n",
    "    owner, parcel, value, acres, raw_neigh = parsed_info\n",
    "    neigh_name, neigh_id = raw_neigh.split('/')\n",
    "    prop = namedtuple(\"Property\", \"property_id address owner parcel_id value acres neighborhood_name neighborhood_id\".split())\n",
    "    p = prop(property_id       = prop_id,\n",
    "             address           = address, \n",
    "             owner             = owner.strip(), \n",
    "             parcel_id         = parcel, \n",
    "             value             = int(value.replace(\",\", \"\").replace(\"$\", \"\")), \n",
    "             acres             = acres, \n",
    "             neighborhood_name = neigh_name.strip(), \n",
    "             neighborhood_id   = neigh_id.strip())\n",
    "    return p"
   ]
  },
  {
   "cell_type": "code",
   "execution_count": 89,
   "metadata": {},
   "outputs": [
    {
     "data": {
      "text/plain": [
       "Property(property_id=1030001, address='13805 ROUND TOP PL', owner='VITT MICHAEL T & VITT TAMMIE K', parcel_id='364302520000', value=365180, acres='0.2127', neighborhood_name='718116', neighborhood_id='STONE LAKES')"
      ]
     },
     "execution_count": 89,
     "metadata": {},
     "output_type": "execute_result"
    }
   ],
   "source": [
    "get_property_by_id(1030001)"
   ]
  },
  {
   "cell_type": "code",
   "execution_count": null,
   "metadata": {},
   "outputs": [],
   "source": []
  }
 ],
 "metadata": {
  "kernelspec": {
   "display_name": "Python 3",
   "language": "python",
   "name": "python3"
  },
  "language_info": {
   "codemirror_mode": {
    "name": "ipython",
    "version": 3
   },
   "file_extension": ".py",
   "mimetype": "text/x-python",
   "name": "python",
   "nbconvert_exporter": "python",
   "pygments_lexer": "ipython3",
   "version": "3.7.1"
  }
 },
 "nbformat": 4,
 "nbformat_minor": 2
}
