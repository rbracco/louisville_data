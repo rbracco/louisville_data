{
 "cells": [
  {
   "cell_type": "code",
   "execution_count": 102,
   "metadata": {},
   "outputs": [],
   "source": [
    "import pandas as pd\n",
    "import numpy as np\n",
    "import seaborn as sns\n",
    "import matplotlib as plt"
   ]
  },
  {
   "cell_type": "code",
   "execution_count": 103,
   "metadata": {},
   "outputs": [],
   "source": [
    "import os"
   ]
  },
  {
   "cell_type": "code",
   "execution_count": 104,
   "metadata": {},
   "outputs": [],
   "source": [
    "%matplotlib inline"
   ]
  },
  {
   "cell_type": "code",
   "execution_count": 105,
   "metadata": {},
   "outputs": [],
   "source": [
    "PATH = '../../data/parking/raw_csv'"
   ]
  },
  {
   "cell_type": "code",
   "execution_count": 106,
   "metadata": {},
   "outputs": [
    {
     "data": {
      "text/plain": [
       "['Parking Citations 2016 Jan-June.csv',\n",
       " 'Parking Citations 2016 July-Sept.csv',\n",
       " 'Parking Citations 2016 Oct-Dec.csv',\n",
       " 'Parking Citations 2017.csv',\n",
       " 'Parking Citations 2018 Thru 3-24-18.csv',\n",
       " 'Violation Codes.csv']"
      ]
     },
     "execution_count": 106,
     "metadata": {},
     "output_type": "execute_result"
    }
   ],
   "source": [
    "csvs_parking = [p for p in os.listdir(PATH) if p[-4:] == '.csv'];csvs_parking"
   ]
  },
  {
   "cell_type": "code",
   "execution_count": 107,
   "metadata": {},
   "outputs": [],
   "source": [
    "test = f\"{PATH}/{csvs_parking[0]}\""
   ]
  },
  {
   "cell_type": "code",
   "execution_count": 108,
   "metadata": {},
   "outputs": [
    {
     "data": {
      "text/plain": [
       "'../../data/parking/raw_csv/Parking Citations 2016 Jan-June.csv'"
      ]
     },
     "execution_count": 108,
     "metadata": {},
     "output_type": "execute_result"
    }
   ],
   "source": [
    "test"
   ]
  },
  {
   "cell_type": "markdown",
   "metadata": {},
   "source": [
    "## Basic Data Exploration"
   ]
  },
  {
   "cell_type": "code",
   "execution_count": 109,
   "metadata": {},
   "outputs": [
    {
     "data": {
      "text/html": [
       "<div>\n",
       "<style scoped>\n",
       "    .dataframe tbody tr th:only-of-type {\n",
       "        vertical-align: middle;\n",
       "    }\n",
       "\n",
       "    .dataframe tbody tr th {\n",
       "        vertical-align: top;\n",
       "    }\n",
       "\n",
       "    .dataframe thead th {\n",
       "        text-align: right;\n",
       "    }\n",
       "</style>\n",
       "<table border=\"1\" class=\"dataframe\">\n",
       "  <thead>\n",
       "    <tr style=\"text-align: right;\">\n",
       "      <th></th>\n",
       "      <th>Cite Number</th>\n",
       "      <th>Issue Date</th>\n",
       "      <th>Issue T</th>\n",
       "      <th>Violat</th>\n",
       "      <th>Sublocatio</th>\n",
       "      <th>Street</th>\n",
       "      <th>Meter #</th>\n",
       "      <th>Is Wa</th>\n",
       "      <th>Due</th>\n",
       "    </tr>\n",
       "  </thead>\n",
       "  <tbody>\n",
       "    <tr>\n",
       "      <th>0</th>\n",
       "      <td>5180004964</td>\n",
       "      <td>02/01/2016</td>\n",
       "      <td>13:01</td>\n",
       "      <td>X</td>\n",
       "      <td>NaN</td>\n",
       "      <td>SEE NOTES</td>\n",
       "      <td>DU2224</td>\n",
       "      <td>NO</td>\n",
       "      <td>0.0</td>\n",
       "    </tr>\n",
       "    <tr>\n",
       "      <th>1</th>\n",
       "      <td>5090004298</td>\n",
       "      <td>06/30/2016</td>\n",
       "      <td>17:14</td>\n",
       "      <td>NP</td>\n",
       "      <td>NaN</td>\n",
       "      <td>SEE NOTES</td>\n",
       "      <td>216E</td>\n",
       "      <td>NO</td>\n",
       "      <td>50.0</td>\n",
       "    </tr>\n",
       "    <tr>\n",
       "      <th>2</th>\n",
       "      <td>5140003457</td>\n",
       "      <td>04/13/2016</td>\n",
       "      <td>15:25</td>\n",
       "      <td>X</td>\n",
       "      <td>NaN</td>\n",
       "      <td>SEE NOTES</td>\n",
       "      <td>408A</td>\n",
       "      <td>NO</td>\n",
       "      <td>0.0</td>\n",
       "    </tr>\n",
       "    <tr>\n",
       "      <th>3</th>\n",
       "      <td>5060003463</td>\n",
       "      <td>04/19/2016</td>\n",
       "      <td>12:46</td>\n",
       "      <td>X</td>\n",
       "      <td>NaN</td>\n",
       "      <td>SEE NOTES</td>\n",
       "      <td>212A</td>\n",
       "      <td>NO</td>\n",
       "      <td>0.0</td>\n",
       "    </tr>\n",
       "    <tr>\n",
       "      <th>4</th>\n",
       "      <td>5230004873</td>\n",
       "      <td>05/02/2016</td>\n",
       "      <td>09:00</td>\n",
       "      <td>PNP</td>\n",
       "      <td>NaN</td>\n",
       "      <td>SEE NOTES</td>\n",
       "      <td>NaN</td>\n",
       "      <td>NO</td>\n",
       "      <td>0.0</td>\n",
       "    </tr>\n",
       "  </tbody>\n",
       "</table>\n",
       "</div>"
      ],
      "text/plain": [
       "  Cite Number  Issue Date Issue T Violat Sublocatio     Street Meter # Is Wa  \\\n",
       "0  5180004964  02/01/2016  13:01       X        NaN  SEE NOTES  DU2224    NO   \n",
       "1  5090004298  06/30/2016  17:14      NP        NaN  SEE NOTES    216E    NO   \n",
       "2  5140003457  04/13/2016  15:25       X        NaN  SEE NOTES    408A    NO   \n",
       "3  5060003463  04/19/2016  12:46       X        NaN  SEE NOTES    212A    NO   \n",
       "4  5230004873  05/02/2016  09:00     PNP        NaN  SEE NOTES     NaN    NO   \n",
       "\n",
       "    Due  \n",
       "0   0.0  \n",
       "1  50.0  \n",
       "2   0.0  \n",
       "3   0.0  \n",
       "4   0.0  "
      ]
     },
     "execution_count": 109,
     "metadata": {},
     "output_type": "execute_result"
    }
   ],
   "source": [
    "df = pd.read_csv(test)\n",
    "df.head()"
   ]
  },
  {
   "cell_type": "code",
   "execution_count": 110,
   "metadata": {},
   "outputs": [
    {
     "data": {
      "text/html": [
       "<div>\n",
       "<style scoped>\n",
       "    .dataframe tbody tr th:only-of-type {\n",
       "        vertical-align: middle;\n",
       "    }\n",
       "\n",
       "    .dataframe tbody tr th {\n",
       "        vertical-align: top;\n",
       "    }\n",
       "\n",
       "    .dataframe thead th {\n",
       "        text-align: right;\n",
       "    }\n",
       "</style>\n",
       "<table border=\"1\" class=\"dataframe\">\n",
       "  <thead>\n",
       "    <tr style=\"text-align: right;\">\n",
       "      <th></th>\n",
       "      <th>Cite Number</th>\n",
       "      <th>Issue Date</th>\n",
       "      <th>Issue T</th>\n",
       "      <th>Violat</th>\n",
       "      <th>Sublocatio</th>\n",
       "      <th>Street</th>\n",
       "      <th>Meter #</th>\n",
       "      <th>Is Wa</th>\n",
       "      <th>Due</th>\n",
       "    </tr>\n",
       "  </thead>\n",
       "  <tbody>\n",
       "    <tr>\n",
       "      <th>51248</th>\n",
       "      <td>5120004483</td>\n",
       "      <td>06/09/2016</td>\n",
       "      <td>11:52</td>\n",
       "      <td>W</td>\n",
       "      <td>NaN</td>\n",
       "      <td>SEE NOTES</td>\n",
       "      <td>NaN</td>\n",
       "      <td>YES</td>\n",
       "      <td>0.0</td>\n",
       "    </tr>\n",
       "    <tr>\n",
       "      <th>51249</th>\n",
       "      <td>5230006309</td>\n",
       "      <td>06/21/2016</td>\n",
       "      <td>11:51</td>\n",
       "      <td>W</td>\n",
       "      <td>NaN</td>\n",
       "      <td>SEE NOTES</td>\n",
       "      <td>NaN</td>\n",
       "      <td>YES</td>\n",
       "      <td>0.0</td>\n",
       "    </tr>\n",
       "    <tr>\n",
       "      <th>51250</th>\n",
       "      <td>5230005098</td>\n",
       "      <td>05/11/2016</td>\n",
       "      <td>13:32</td>\n",
       "      <td>PT2</td>\n",
       "      <td>NaN</td>\n",
       "      <td>SEE NOTES</td>\n",
       "      <td>NaN</td>\n",
       "      <td>NO</td>\n",
       "      <td>0.0</td>\n",
       "    </tr>\n",
       "    <tr>\n",
       "      <th>51251</th>\n",
       "      <td>0094283604</td>\n",
       "      <td>04/11/2016</td>\n",
       "      <td>08:48</td>\n",
       "      <td>S</td>\n",
       "      <td>NaN</td>\n",
       "      <td>SEE NOTES</td>\n",
       "      <td>NaN</td>\n",
       "      <td>NO</td>\n",
       "      <td>0.0</td>\n",
       "    </tr>\n",
       "    <tr>\n",
       "      <th>51252</th>\n",
       "      <td>5230001828</td>\n",
       "      <td>01/04/2016</td>\n",
       "      <td>06:59</td>\n",
       "      <td>PSW</td>\n",
       "      <td>NaN</td>\n",
       "      <td>SEE NOTES</td>\n",
       "      <td>NaN</td>\n",
       "      <td>NO</td>\n",
       "      <td>0.0</td>\n",
       "    </tr>\n",
       "  </tbody>\n",
       "</table>\n",
       "</div>"
      ],
      "text/plain": [
       "      Cite Number  Issue Date Issue T Violat Sublocatio     Street Meter #  \\\n",
       "51248  5120004483  06/09/2016  11:52       W        NaN  SEE NOTES     NaN   \n",
       "51249  5230006309  06/21/2016  11:51       W        NaN  SEE NOTES     NaN   \n",
       "51250  5230005098  05/11/2016  13:32     PT2        NaN  SEE NOTES     NaN   \n",
       "51251  0094283604  04/11/2016  08:48       S        NaN  SEE NOTES     NaN   \n",
       "51252  5230001828  01/04/2016  06:59     PSW        NaN  SEE NOTES     NaN   \n",
       "\n",
       "      Is Wa  Due  \n",
       "51248   YES  0.0  \n",
       "51249   YES  0.0  \n",
       "51250    NO  0.0  \n",
       "51251    NO  0.0  \n",
       "51252    NO  0.0  "
      ]
     },
     "execution_count": 110,
     "metadata": {},
     "output_type": "execute_result"
    }
   ],
   "source": [
    "df.tail()"
   ]
  },
  {
   "cell_type": "code",
   "execution_count": 111,
   "metadata": {},
   "outputs": [],
   "source": [
    "col_dict = {}\n",
    "for p in csvs_parking:\n",
    "    if(\"Violation\" in p): continue\n",
    "    path_csv = f\"{PATH}/{p}\"\n",
    "    df = pd.read_csv(path_csv)\n",
    "    col_dict[p] = df.columns"
   ]
  },
  {
   "cell_type": "code",
   "execution_count": 112,
   "metadata": {},
   "outputs": [],
   "source": [
    "col_sets = list(map(set, col_dict.values()))"
   ]
  },
  {
   "cell_type": "code",
   "execution_count": 113,
   "metadata": {},
   "outputs": [],
   "source": [
    "union = set.union(*col_sets)\n",
    "intersection = set.intersection(*col_sets)"
   ]
  },
  {
   "cell_type": "code",
   "execution_count": 114,
   "metadata": {},
   "outputs": [
    {
     "name": "stdout",
     "output_type": "stream",
     "text": [
      "13\n",
      "{'Sublocatio', 'Is Wa', 'Void Rea', 'Issue T', 'Cite Number', 'Street', 'Meter #', 'AgeWhenP', 'Due', 'Issue Date', 'Paid Date', 'Violat', 'Payme'}\n"
     ]
    }
   ],
   "source": [
    "print(len(union))\n",
    "print(union)"
   ]
  },
  {
   "cell_type": "code",
   "execution_count": 115,
   "metadata": {},
   "outputs": [
    {
     "name": "stdout",
     "output_type": "stream",
     "text": [
      "8\n",
      "{'Due', 'Sublocatio', 'Violat', 'Is Wa', 'Issue Date', 'Cite Number', 'Street', 'Meter #'}\n"
     ]
    }
   ],
   "source": [
    "print(len(intersection))\n",
    "print(intersection)"
   ]
  },
  {
   "cell_type": "code",
   "execution_count": 116,
   "metadata": {},
   "outputs": [
    {
     "name": "stdout",
     "output_type": "stream",
     "text": [
      "Void Rea\n",
      "Paid Date\n",
      "Issue T\n",
      "AgeWhenP\n",
      "Payme\n"
     ]
    }
   ],
   "source": [
    "for col in union.difference(intersection):\n",
    "    print(col)"
   ]
  },
  {
   "cell_type": "markdown",
   "metadata": {},
   "source": [
    "**We really need Issue T (time), all the other ones are unnecessary, let's look to see which csvs are missing Issue T and see if we should just drop them**"
   ]
  },
  {
   "cell_type": "code",
   "execution_count": 117,
   "metadata": {},
   "outputs": [
    {
     "name": "stdout",
     "output_type": "stream",
     "text": [
      "Parking Citations 2018 Thru 3-24-18.csv\n"
     ]
    }
   ],
   "source": [
    "for k, v in col_dict.items():\n",
    "    if \"Issue T\" not in v: print(k)"
   ]
  },
  {
   "cell_type": "code",
   "execution_count": 118,
   "metadata": {},
   "outputs": [
    {
     "data": {
      "text/html": [
       "<div>\n",
       "<style scoped>\n",
       "    .dataframe tbody tr th:only-of-type {\n",
       "        vertical-align: middle;\n",
       "    }\n",
       "\n",
       "    .dataframe tbody tr th {\n",
       "        vertical-align: top;\n",
       "    }\n",
       "\n",
       "    .dataframe thead th {\n",
       "        text-align: right;\n",
       "    }\n",
       "</style>\n",
       "<table border=\"1\" class=\"dataframe\">\n",
       "  <thead>\n",
       "    <tr style=\"text-align: right;\">\n",
       "      <th></th>\n",
       "      <th>Cite Number</th>\n",
       "      <th>Issue Date</th>\n",
       "      <th>Violat</th>\n",
       "      <th>Sublocatio</th>\n",
       "      <th>Street</th>\n",
       "      <th>Meter #</th>\n",
       "      <th>Is Wa</th>\n",
       "      <th>Due</th>\n",
       "    </tr>\n",
       "  </thead>\n",
       "  <tbody>\n",
       "    <tr>\n",
       "      <th>0</th>\n",
       "      <td>M201507360</td>\n",
       "      <td>02/16/2018</td>\n",
       "      <td>PSW</td>\n",
       "      <td>700</td>\n",
       "      <td>YORK ST</td>\n",
       "      <td>NaN</td>\n",
       "      <td>NO</td>\n",
       "      <td>0.0</td>\n",
       "    </tr>\n",
       "    <tr>\n",
       "      <th>1</th>\n",
       "      <td>M201306003</td>\n",
       "      <td>01/05/2018</td>\n",
       "      <td>HO</td>\n",
       "      <td>100S</td>\n",
       "      <td>1ST ST</td>\n",
       "      <td>NaN</td>\n",
       "      <td>NO</td>\n",
       "      <td>0.0</td>\n",
       "    </tr>\n",
       "    <tr>\n",
       "      <th>2</th>\n",
       "      <td>M202705546</td>\n",
       "      <td>01/18/2018</td>\n",
       "      <td>X</td>\n",
       "      <td>N200</td>\n",
       "      <td>1ST ST</td>\n",
       "      <td>3012</td>\n",
       "      <td>NO</td>\n",
       "      <td>0.0</td>\n",
       "    </tr>\n",
       "    <tr>\n",
       "      <th>3</th>\n",
       "      <td>M202802800</td>\n",
       "      <td>01/10/2018</td>\n",
       "      <td>NPP</td>\n",
       "      <td>500W</td>\n",
       "      <td>LIBERTY ST</td>\n",
       "      <td>NaN</td>\n",
       "      <td>NO</td>\n",
       "      <td>0.0</td>\n",
       "    </tr>\n",
       "    <tr>\n",
       "      <th>4</th>\n",
       "      <td>M200208507</td>\n",
       "      <td>02/23/2018</td>\n",
       "      <td>NP</td>\n",
       "      <td>200E</td>\n",
       "      <td>CHESTNUT ST</td>\n",
       "      <td>NaN</td>\n",
       "      <td>NO</td>\n",
       "      <td>0.0</td>\n",
       "    </tr>\n",
       "  </tbody>\n",
       "</table>\n",
       "</div>"
      ],
      "text/plain": [
       "  Cite Number  Issue Date Violat Sublocatio       Street Meter # Is Wa  Due\n",
       "0  M201507360  02/16/2018    PSW        700      YORK ST     NaN    NO  0.0\n",
       "1  M201306003  01/05/2018     HO       100S       1ST ST     NaN    NO  0.0\n",
       "2  M202705546  01/18/2018      X       N200       1ST ST    3012    NO  0.0\n",
       "3  M202802800  01/10/2018    NPP       500W   LIBERTY ST     NaN    NO  0.0\n",
       "4  M200208507  02/23/2018     NP       200E  CHESTNUT ST     NaN    NO  0.0"
      ]
     },
     "execution_count": 118,
     "metadata": {},
     "output_type": "execute_result"
    }
   ],
   "source": [
    "df = pd.read_csv(f\"{PATH}/Parking Citations 2018 Thru 3-24-18.csv\")\n",
    "df.head()"
   ]
  },
  {
   "cell_type": "markdown",
   "metadata": {},
   "source": [
    "**So this csv is missing relevant time data, so we will make two new CSVs, one that has time data (hour and minute) and another that doesn't but has the 8 shared columns, and that can be used for stuff that doesn't need precise time, and maybe one more that has all the data just checked together with NaN for missing values**"
   ]
  },
  {
   "cell_type": "code",
   "execution_count": 119,
   "metadata": {},
   "outputs": [],
   "source": [
    "all_dfs  = []\n",
    "for p in csvs_parking:\n",
    "    if(\"Violation\" in p): continue\n",
    "    path_csv = f\"{PATH}/{p}\"\n",
    "    all_dfs.append(pd.read_csv(path_csv))"
   ]
  },
  {
   "cell_type": "code",
   "execution_count": 120,
   "metadata": {},
   "outputs": [
    {
     "name": "stderr",
     "output_type": "stream",
     "text": [
      "C:\\Users\\Rob\\Anaconda3\\lib\\site-packages\\ipykernel_launcher.py:1: FutureWarning: Sorting because non-concatenation axis is not aligned. A future version\n",
      "of pandas will change to not sort by default.\n",
      "\n",
      "To accept the future behavior, pass 'sort=False'.\n",
      "\n",
      "To retain the current behavior and silence the warning, pass 'sort=True'.\n",
      "\n",
      "  \"\"\"Entry point for launching an IPython kernel.\n"
     ]
    }
   ],
   "source": [
    "df_all = pd.concat(all_dfs, ignore_index=True)"
   ]
  },
  {
   "cell_type": "code",
   "execution_count": 121,
   "metadata": {},
   "outputs": [
    {
     "name": "stdout",
     "output_type": "stream",
     "text": [
      "<class 'pandas.core.frame.DataFrame'>\n",
      "RangeIndex: 227430 entries, 0 to 227429\n",
      "Data columns (total 13 columns):\n",
      "AgeWhenP       35613 non-null float64\n",
      "Cite Number    227430 non-null object\n",
      "Due            227430 non-null float64\n",
      "Is Wa          227430 non-null object\n",
      "Issue Date     227430 non-null object\n",
      "Issue T        207094 non-null object\n",
      "Meter #        122235 non-null object\n",
      "Paid Date      17061 non-null object\n",
      "Payme          35613 non-null float64\n",
      "Street         227430 non-null object\n",
      "Sublocatio     161895 non-null object\n",
      "Violat         227430 non-null object\n",
      "Void Rea       3736 non-null object\n",
      "dtypes: float64(3), object(10)\n",
      "memory usage: 22.6+ MB\n"
     ]
    }
   ],
   "source": [
    "df_all.info()"
   ]
  },
  {
   "cell_type": "code",
   "execution_count": 125,
   "metadata": {},
   "outputs": [],
   "source": [
    "#Export all 227k entries, with all 13 columns and missing values\n",
    "df_all.to_csv(\"../../data/parking/all.csv\")"
   ]
  },
  {
   "cell_type": "code",
   "execution_count": 136,
   "metadata": {},
   "outputs": [],
   "source": [
    "df_intersect = df_all[list(intersection)]\n",
    "df_intersect.to_csv(\"../../data/parking/shared_columns.csv\")"
   ]
  },
  {
   "cell_type": "code",
   "execution_count": 127,
   "metadata": {},
   "outputs": [
    {
     "data": {
      "text/plain": [
       "(227430, 9)"
      ]
     },
     "execution_count": 127,
     "metadata": {},
     "output_type": "execute_result"
    }
   ],
   "source": [
    "df_precise_time = df_all[list(intersection) + [\"Issue T\"]]\n",
    "df_precise_time.shape"
   ]
  },
  {
   "cell_type": "code",
   "execution_count": 128,
   "metadata": {},
   "outputs": [
    {
     "data": {
      "text/plain": [
       "(207094, 9)"
      ]
     },
     "execution_count": 128,
     "metadata": {},
     "output_type": "execute_result"
    }
   ],
   "source": [
    "df_precise_time = df_precise_time.dropna(subset=[\"Issue T\"])\n",
    "df_precise_time.shape"
   ]
  },
  {
   "cell_type": "code",
   "execution_count": 129,
   "metadata": {},
   "outputs": [],
   "source": [
    "df_precise_time.to_csv(\"../../data/parking/time_data.csv\")"
   ]
  },
  {
   "cell_type": "markdown",
   "metadata": {},
   "source": [
    "**That is the right number of rows, so we now have another good CSV, with all non-null time data, but we are missing a lot of sublocation data, so maybe we should have another CSV with that for mapping**"
   ]
  },
  {
   "cell_type": "code",
   "execution_count": 130,
   "metadata": {},
   "outputs": [
    {
     "data": {
      "text/plain": [
       "(58897, 9)"
      ]
     },
     "execution_count": 130,
     "metadata": {},
     "output_type": "execute_result"
    }
   ],
   "source": [
    "#ugh there are 59000 entries where the street is \"See notes\" and sublocation is null, let's make a precise_location_df \n",
    "#where we grab all entries with good location data\n",
    "df_precise_time[(df_precise_time[\"Street\"] == \"SEE NOTES\") & (df_precise_time[\"Sublocatio\"].isna())].shape"
   ]
  },
  {
   "cell_type": "code",
   "execution_count": 131,
   "metadata": {},
   "outputs": [
    {
     "name": "stdout",
     "output_type": "stream",
     "text": [
      "(227430, 9)\n",
      "(161895, 9)\n"
     ]
    }
   ],
   "source": [
    "df_precise_location = df_all[list(intersection) + [\"Issue T\"]]\n",
    "print(df_precise_location.shape)\n",
    "df_precise_location = df_precise_location.dropna(subset=[\"Sublocatio\", \"Street\"])\n",
    "print(df_precise_location.shape)"
   ]
  },
  {
   "cell_type": "code",
   "execution_count": 132,
   "metadata": {},
   "outputs": [
    {
     "data": {
      "text/plain": [
       "300         13374\n",
       "600         12333\n",
       "400         12300\n",
       "500         10809\n",
       "200         10462\n",
       "100          8530\n",
       "2000         5768\n",
       "700          4543\n",
       "1800         3451\n",
       "1600         3382\n",
       "900          2778\n",
       "1700         2280\n",
       "1000         2212\n",
       "1900         2190\n",
       "2200         2118\n",
       "1500         2003\n",
       "200E         1829\n",
       "600W         1739\n",
       "400W         1703\n",
       "1200         1606\n",
       "1400         1482\n",
       "800          1462\n",
       "100S         1431\n",
       "600S         1281\n",
       "500BLOCK     1276\n",
       "1300         1257\n",
       "500S         1230\n",
       "300E         1204\n",
       "300W         1154\n",
       "100E         1115\n",
       "            ...  \n",
       "10204           1\n",
       "1-100SL         1\n",
       "522 W           1\n",
       "8-102NA         1\n",
       "307 W           1\n",
       "14208           1\n",
       "9206            1\n",
       "471 S           1\n",
       "2506            1\n",
       "444E            1\n",
       "M507AW          1\n",
       "407BS           1\n",
       "CH201           1\n",
       "3503            1\n",
       "ALI412B         1\n",
       "116 N           1\n",
       "132 E           1\n",
       "4079            1\n",
       "2060            1\n",
       "6804            1\n",
       "1836            1\n",
       "3225            1\n",
       "231 E           1\n",
       "WA321E          1\n",
       "7506            1\n",
       "131.8MM         1\n",
       "ALI313B         1\n",
       "3918            1\n",
       "3322            1\n",
       "4MM             1\n",
       "Name: Sublocatio, Length: 6196, dtype: int64"
      ]
     },
     "execution_count": 132,
     "metadata": {},
     "output_type": "execute_result"
    }
   ],
   "source": [
    "#look for weird outliers like \"SEE NOTES\"\n",
    "df_precise_location[\"Sublocatio\"].value_counts()"
   ]
  },
  {
   "cell_type": "code",
   "execution_count": 133,
   "metadata": {},
   "outputs": [
    {
     "data": {
      "text/plain": [
       "CHESTNUT ST            10216\n",
       "4TH ST                  9914\n",
       "MAIN ST                 9609\n",
       "MUHAMMAD ALI BLVD       8384\n",
       "LIBERTY ST              8233\n",
       "JEFFERSON ST            8151\n",
       "FLOYD ST                7186\n",
       "3RD ST                  6884\n",
       "MARKET ST               6149\n",
       "BARDSTOWN RD            5587\n",
       "1ST ST                  5177\n",
       "6TH ST                  5075\n",
       "5TH ST                  4602\n",
       "7TH ST                  4328\n",
       "PRESTON ST              3290\n",
       "2ND ST                  2912\n",
       "8TH ST                  2771\n",
       "GRAY ST                 2468\n",
       "BROOK ST                2394\n",
       "BLOOM ST                2352\n",
       "HIGHLAND AVE            1966\n",
       "BAXTER AVE              1961\n",
       "WASHINGTON ST           1949\n",
       "HANCOCK ST              1594\n",
       "DUNDEE RD               1559\n",
       "ABRAHAM FLEXNER WAY     1418\n",
       "JACKSON ST              1178\n",
       "LEE ST                  1102\n",
       "WITHERSPOON ST          1074\n",
       "LUCIA AVE                932\n",
       "                       ...  \n",
       "WHITMORE AVE               1\n",
       "HERMITAGE WAY              1\n",
       "SANDRAY BLVD               1\n",
       "BROAD RUN RD               1\n",
       "HILTON CT                  1\n",
       "GARDEN DR                  1\n",
       "GRAF DR                    1\n",
       "LOTIS WAY                  1\n",
       "MICHAEL RAY DR             1\n",
       "COKE ST                    1\n",
       "POWDER HORN DR             1\n",
       "VANETO DR                  1\n",
       "LENCOTT DR                 1\n",
       "BISHOP LN                  1\n",
       "RUSSELL LEE CT             1\n",
       "SHUTESBURY CIR             1\n",
       "CASSIDY CIR                1\n",
       "POMEROY CT                 1\n",
       "GAILBREATH AVE             1\n",
       "STRIVE LN                  1\n",
       "TRIO AVE                   1\n",
       "BLUEBELL DR                1\n",
       "LANSDOWNE AVE              1\n",
       "PARLIAMENT CT              1\n",
       "BILJANA DR                 1\n",
       "MELON CT                   1\n",
       "GUARDIAN CT                1\n",
       "GLEN ROSE CT               1\n",
       "BUTTERNUT CT               1\n",
       "EMILY RD                   1\n",
       "Name: Street, Length: 1534, dtype: int64"
      ]
     },
     "execution_count": 133,
     "metadata": {},
     "output_type": "execute_result"
    }
   ],
   "source": [
    "#look for weird outliers like \"SEE NOTES\"\n",
    "df_precise_location[\"Street\"].value_counts()"
   ]
  },
  {
   "cell_type": "code",
   "execution_count": 135,
   "metadata": {},
   "outputs": [],
   "source": [
    "#ready for export\n",
    "df_precise_location.to_csv(\"../../data/parking/location_data.csv\")"
   ]
  }
 ],
 "metadata": {
  "kernelspec": {
   "display_name": "Python 3",
   "language": "python",
   "name": "python3"
  },
  "language_info": {
   "codemirror_mode": {
    "name": "ipython",
    "version": 3
   },
   "file_extension": ".py",
   "mimetype": "text/x-python",
   "name": "python",
   "nbconvert_exporter": "python",
   "pygments_lexer": "ipython3",
   "version": "3.7.1"
  }
 },
 "nbformat": 4,
 "nbformat_minor": 2
}
