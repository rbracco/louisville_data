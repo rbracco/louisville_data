{
 "cells": [
  {
   "cell_type": "code",
   "execution_count": 1,
   "metadata": {},
   "outputs": [],
   "source": [
    "import pandas as pd\n",
    "import numpy as np\n",
    "import seaborn as sns\n",
    "import matplotlib as plt"
   ]
  },
  {
   "cell_type": "code",
   "execution_count": 2,
   "metadata": {},
   "outputs": [],
   "source": [
    "import os"
   ]
  },
  {
   "cell_type": "code",
   "execution_count": 3,
   "metadata": {},
   "outputs": [],
   "source": [
    "%matplotlib inline"
   ]
  },
  {
   "cell_type": "code",
   "execution_count": 4,
   "metadata": {},
   "outputs": [],
   "source": [
    "PATH = '../../data/parking'"
   ]
  },
  {
   "cell_type": "code",
   "execution_count": 5,
   "metadata": {},
   "outputs": [
    {
     "data": {
      "text/plain": [
       "['Parking Citations 2016 Jan-June.csv',\n",
       " 'Parking Citations 2016 July-Sept.csv',\n",
       " 'Parking Citations 2016 Oct-Dec.csv',\n",
       " 'Parking Citations 2017.csv',\n",
       " 'Parking Citations 2018 Thru 3-24-18.csv',\n",
       " 'processed_all.csv',\n",
       " 'processed_location_data.csv',\n",
       " 'processed_shared_columns.csv',\n",
       " 'processed_timedata.csv',\n",
       " 'Violation Codes.csv']"
      ]
     },
     "execution_count": 5,
     "metadata": {},
     "output_type": "execute_result"
    }
   ],
   "source": [
    "csvs_parking = [p for p in os.listdir(PATH) if p[-4:] == '.csv'];csvs_parking"
   ]
  },
  {
   "cell_type": "code",
   "execution_count": 6,
   "metadata": {},
   "outputs": [],
   "source": [
    "test = f\"{PATH}/{csvs_parking[0]}\""
   ]
  },
  {
   "cell_type": "code",
   "execution_count": 8,
   "metadata": {},
   "outputs": [
    {
     "data": {
      "text/plain": [
       "'../../data/parking/Parking Citations 2016 Jan-June.csv'"
      ]
     },
     "execution_count": 8,
     "metadata": {},
     "output_type": "execute_result"
    }
   ],
   "source": [
    "test"
   ]
  },
  {
   "cell_type": "code",
   "execution_count": 49,
   "metadata": {},
   "outputs": [],
   "source": [
    "def flatten_time(t):\n",
    "    hour, minute = t.split(':')\n",
    "    return 60*int(hour) + int(minute)"
   ]
  },
  {
   "cell_type": "code",
   "execution_count": 56,
   "metadata": {},
   "outputs": [],
   "source": [
    "df[\"Time_Flat\"] = df[\"Issue T\"].map(flatten_time)"
   ]
  },
  {
   "cell_type": "code",
   "execution_count": 57,
   "metadata": {},
   "outputs": [],
   "source": [
    "df[\"Hour\"] = df[\"Issue T\"].map(lambda x: x.split(':')[0]).astype(\"int64\")"
   ]
  },
  {
   "cell_type": "code",
   "execution_count": 58,
   "metadata": {},
   "outputs": [],
   "source": [
    "df[\"Minute\"] = df[\"Issue T\"].map(lambda x: x.split(':')[1]).astype(\"int64\")"
   ]
  },
  {
   "cell_type": "code",
   "execution_count": 59,
   "metadata": {},
   "outputs": [
    {
     "name": "stdout",
     "output_type": "stream",
     "text": [
      "<class 'pandas.core.frame.DataFrame'>\n",
      "RangeIndex: 104204 entries, 0 to 104203\n",
      "Data columns (total 15 columns):\n",
      "Cite Number    104204 non-null object\n",
      "Issue Date     104204 non-null object\n",
      "Issue T        104204 non-null object\n",
      "Violat         104204 non-null object\n",
      "Sublocatio     100041 non-null object\n",
      "Street         104204 non-null object\n",
      "Meter #        55049 non-null object\n",
      "Is Wa          104204 non-null object\n",
      "Void Rea       3736 non-null object\n",
      "Due            104204 non-null float64\n",
      "Payme          35613 non-null float64\n",
      "AgeWhenP       35613 non-null float64\n",
      "Time_Flat      104204 non-null int64\n",
      "Hour           104204 non-null int64\n",
      "Minute         104204 non-null int64\n",
      "dtypes: float64(3), int64(3), object(9)\n",
      "memory usage: 11.9+ MB\n"
     ]
    }
   ],
   "source": [
    "df.info()"
   ]
  },
  {
   "cell_type": "markdown",
   "metadata": {},
   "source": [
    "Let's take a quick look at what columns are available to us since they run off the screen"
   ]
  },
  {
   "cell_type": "code",
   "execution_count": 64,
   "metadata": {},
   "outputs": [
    {
     "data": {
      "text/plain": [
       "<matplotlib.axes._subplots.AxesSubplot at 0x2e50aa7e320>"
      ]
     },
     "execution_count": 64,
     "metadata": {},
     "output_type": "execute_result"
    },
    {
     "data": {
      "image/png": "[encoded data removed]",
      "text/plain": [
       "<Figure size 432x288 with 1 Axes>"
      ]
     },
     "metadata": {
      "needs_background": "light"
     },
     "output_type": "display_data"
    }
   ],
   "source": [
    "df[\"Hour\"].hist()"
   ]
  }
 ],
 "metadata": {
  "kernelspec": {
   "display_name": "Python 3",
   "language": "python",
   "name": "python3"
  },
  "language_info": {
   "codemirror_mode": {
    "name": "ipython",
    "version": 3
   },
   "file_extension": ".py",
   "mimetype": "text/x-python",
   "name": "python",
   "nbconvert_exporter": "python",
   "pygments_lexer": "ipython3",
   "version": "3.7.1"
  }
 },
 "nbformat": 4,
 "nbformat_minor": 2
}
