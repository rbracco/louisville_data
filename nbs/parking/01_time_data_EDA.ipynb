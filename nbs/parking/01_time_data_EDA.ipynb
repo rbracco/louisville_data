{
 "cells": [
  {
   "cell_type": "code",
   "execution_count": 66,
   "metadata": {},
   "outputs": [],
   "source": [
    "import pandas as pd\n",
    "import numpy as np\n",
    "import seaborn as sns\n",
    "import matplotlib as plt\n",
    "from pathlib import Path\n",
    "import matplotlib.pyplot as plot"
   ]
  },
  {
   "cell_type": "code",
   "execution_count": 13,
   "metadata": {},
   "outputs": [],
   "source": [
    "import os"
   ]
  },
  {
   "cell_type": "code",
   "execution_count": 14,
   "metadata": {},
   "outputs": [],
   "source": [
    "%matplotlib inline"
   ]
  },
  {
   "cell_type": "code",
   "execution_count": 18,
   "metadata": {},
   "outputs": [],
   "source": [
    "#monkey-patch listdir functionality into pathlib\n",
    "Path.ls = lambda x: os.listdir(str(x))\n",
    "PATH = Path('../../data/parking')\n",
    "PATH_TIME = PATH/\"time_data.csv\""
   ]
  },
  {
   "cell_type": "code",
   "execution_count": 19,
   "metadata": {},
   "outputs": [
    {
     "data": {
      "text/plain": [
       "['.ipynb_checkpoints',\n",
       " 'all.csv',\n",
       " 'location_data.csv',\n",
       " 'raw_csv',\n",
       " 'shared_columns.csv',\n",
       " 'time_data.csv']"
      ]
     },
     "execution_count": 19,
     "metadata": {},
     "output_type": "execute_result"
    }
   ],
   "source": [
    "PATH.ls()"
   ]
  },
  {
   "cell_type": "code",
   "execution_count": 33,
   "metadata": {},
   "outputs": [],
   "source": [
    "df = pd.read_csv(PATH_TIME)"
   ]
  },
  {
   "cell_type": "code",
   "execution_count": 34,
   "metadata": {},
   "outputs": [
    {
     "data": {
      "text/html": [
       "<div>\n",
       "<style scoped>\n",
       "    .dataframe tbody tr th:only-of-type {\n",
       "        vertical-align: middle;\n",
       "    }\n",
       "\n",
       "    .dataframe tbody tr th {\n",
       "        vertical-align: top;\n",
       "    }\n",
       "\n",
       "    .dataframe thead th {\n",
       "        text-align: right;\n",
       "    }\n",
       "</style>\n",
       "<table border=\"1\" class=\"dataframe\">\n",
       "  <thead>\n",
       "    <tr style=\"text-align: right;\">\n",
       "      <th></th>\n",
       "      <th>Due</th>\n",
       "      <th>Sublocatio</th>\n",
       "      <th>Violat</th>\n",
       "      <th>Is Wa</th>\n",
       "      <th>Issue Date</th>\n",
       "      <th>Cite Number</th>\n",
       "      <th>Street</th>\n",
       "      <th>Meter #</th>\n",
       "      <th>Issue T</th>\n",
       "    </tr>\n",
       "  </thead>\n",
       "  <tbody>\n",
       "    <tr>\n",
       "      <th>0</th>\n",
       "      <td>0.0</td>\n",
       "      <td>NaN</td>\n",
       "      <td>X</td>\n",
       "      <td>NO</td>\n",
       "      <td>02/01/2016</td>\n",
       "      <td>5180004964</td>\n",
       "      <td>SEE NOTES</td>\n",
       "      <td>DU2224</td>\n",
       "      <td>13:01</td>\n",
       "    </tr>\n",
       "    <tr>\n",
       "      <th>1</th>\n",
       "      <td>50.0</td>\n",
       "      <td>NaN</td>\n",
       "      <td>NP</td>\n",
       "      <td>NO</td>\n",
       "      <td>06/30/2016</td>\n",
       "      <td>5090004298</td>\n",
       "      <td>SEE NOTES</td>\n",
       "      <td>216E</td>\n",
       "      <td>17:14</td>\n",
       "    </tr>\n",
       "    <tr>\n",
       "      <th>2</th>\n",
       "      <td>0.0</td>\n",
       "      <td>NaN</td>\n",
       "      <td>X</td>\n",
       "      <td>NO</td>\n",
       "      <td>04/13/2016</td>\n",
       "      <td>5140003457</td>\n",
       "      <td>SEE NOTES</td>\n",
       "      <td>408A</td>\n",
       "      <td>15:25</td>\n",
       "    </tr>\n",
       "    <tr>\n",
       "      <th>3</th>\n",
       "      <td>0.0</td>\n",
       "      <td>NaN</td>\n",
       "      <td>X</td>\n",
       "      <td>NO</td>\n",
       "      <td>04/19/2016</td>\n",
       "      <td>5060003463</td>\n",
       "      <td>SEE NOTES</td>\n",
       "      <td>212A</td>\n",
       "      <td>12:46</td>\n",
       "    </tr>\n",
       "    <tr>\n",
       "      <th>4</th>\n",
       "      <td>0.0</td>\n",
       "      <td>NaN</td>\n",
       "      <td>PNP</td>\n",
       "      <td>NO</td>\n",
       "      <td>05/02/2016</td>\n",
       "      <td>5230004873</td>\n",
       "      <td>SEE NOTES</td>\n",
       "      <td>NaN</td>\n",
       "      <td>09:00</td>\n",
       "    </tr>\n",
       "  </tbody>\n",
       "</table>\n",
       "</div>"
      ],
      "text/plain": [
       "    Due Sublocatio Violat Is Wa  Issue Date Cite Number     Street Meter #  \\\n",
       "0   0.0        NaN      X    NO  02/01/2016  5180004964  SEE NOTES  DU2224   \n",
       "1  50.0        NaN     NP    NO  06/30/2016  5090004298  SEE NOTES    216E   \n",
       "2   0.0        NaN      X    NO  04/13/2016  5140003457  SEE NOTES    408A   \n",
       "3   0.0        NaN      X    NO  04/19/2016  5060003463  SEE NOTES    212A   \n",
       "4   0.0        NaN    PNP    NO  05/02/2016  5230004873  SEE NOTES     NaN   \n",
       "\n",
       "  Issue T  \n",
       "0  13:01   \n",
       "1  17:14   \n",
       "2  15:25   \n",
       "3  12:46   \n",
       "4  09:00   "
      ]
     },
     "execution_count": 34,
     "metadata": {},
     "output_type": "execute_result"
    }
   ],
   "source": [
    "df.head()"
   ]
  },
  {
   "cell_type": "code",
   "execution_count": 35,
   "metadata": {},
   "outputs": [],
   "source": [
    "def flatten_time(t):\n",
    "    hour, minute = t.split(':')\n",
    "    return 60*int(hour) + int(minute)"
   ]
  },
  {
   "cell_type": "code",
   "execution_count": 54,
   "metadata": {},
   "outputs": [],
   "source": [
    "#Add a new column that represents minutes since midnight\n",
    "df[\"Time_Flat\"] = df[\"Issue T\"].map(flatten_time)"
   ]
  },
  {
   "cell_type": "code",
   "execution_count": 55,
   "metadata": {},
   "outputs": [],
   "source": [
    "df[\"Hour\"] = df[\"Issue T\"].map(lambda x: x.split(':')[0]).astype(\"int64\")"
   ]
  },
  {
   "cell_type": "code",
   "execution_count": 56,
   "metadata": {},
   "outputs": [],
   "source": [
    "df[\"Minute\"] = df[\"Issue T\"].map(lambda x: x.split(':')[1]).astype(\"int64\")"
   ]
  },
  {
   "cell_type": "code",
   "execution_count": 57,
   "metadata": {},
   "outputs": [
    {
     "name": "stdout",
     "output_type": "stream",
     "text": [
      "<class 'pandas.core.frame.DataFrame'>\n",
      "Int64Index: 207094 entries, 0 to 207093\n",
      "Data columns (total 12 columns):\n",
      "Due            207094 non-null float64\n",
      "Sublocatio     141628 non-null object\n",
      "Violat         207094 non-null object\n",
      "Is Wa          207094 non-null object\n",
      "Issue Date     207094 non-null object\n",
      "Cite Number    207094 non-null object\n",
      "Street         207094 non-null object\n",
      "Meter #        110231 non-null object\n",
      "Issue T        207094 non-null object\n",
      "Time_Flat      207094 non-null int64\n",
      "Hour           207094 non-null int64\n",
      "Minute         207094 non-null int64\n",
      "dtypes: float64(1), int64(3), object(8)\n",
      "memory usage: 20.5+ MB\n"
     ]
    }
   ],
   "source": [
    "df.info()"
   ]
  },
  {
   "cell_type": "markdown",
   "metadata": {},
   "source": [
    "Let's take a quick look at what columns are available to us since they run off the screen"
   ]
  },
  {
   "cell_type": "code",
   "execution_count": 78,
   "metadata": {},
   "outputs": [
    {
     "data": {
      "text/plain": [
       "X       112330\n",
       "NPP      15183\n",
       "S        13281\n",
       "NP       10559\n",
       "NSR       8682\n",
       "NS        4516\n",
       "PNP       4066\n",
       "78        4034\n",
       "97        2772\n",
       "H         2512\n",
       "BT        2212\n",
       "PFH       2203\n",
       "EX        2052\n",
       "NPS       1997\n",
       "NPC       1891\n",
       "PT2       1554\n",
       "HO        1371\n",
       "PSW       1157\n",
       "LZF       1150\n",
       "AB        1134\n",
       "NPG       1011\n",
       "W          898\n",
       "NPJ        861\n",
       "OTH        857\n",
       "PD         779\n",
       "PCO        766\n",
       "PTZ        759\n",
       "OFF3       675\n",
       "IP         634\n",
       "FL         570\n",
       "         ...  \n",
       "MU          88\n",
       "P6          74\n",
       "OFF2        74\n",
       "NPZ         65\n",
       "D           60\n",
       "PA          58\n",
       "PSR         53\n",
       "PT4         47\n",
       "OM          47\n",
       "PCV         42\n",
       "P24         34\n",
       "RV          31\n",
       "SD          30\n",
       "T           28\n",
       "PT3         25\n",
       "NPU         22\n",
       "PB          21\n",
       "OTC         12\n",
       "OFF4         9\n",
       "PMR          8\n",
       "LIB          7\n",
       "OFF1         6\n",
       "IW           5\n",
       "OA           5\n",
       "SOS          3\n",
       "PT1          3\n",
       "PE           3\n",
       "LM           2\n",
       "C            1\n",
       "DBL          1\n",
       "Name: Violat, Length: 76, dtype: int64"
      ]
     },
     "execution_count": 78,
     "metadata": {},
     "output_type": "execute_result"
    }
   ],
   "source": [
    "df[\"Violat\"].value_counts()"
   ]
  },
  {
   "cell_type": "markdown",
   "metadata": {},
   "source": [
    "#### We are only interested in expired meters citations because we want to see what the highest risk times are, so let's grab just those violations"
   ]
  },
  {
   "cell_type": "code",
   "execution_count": 80,
   "metadata": {},
   "outputs": [
    {
     "data": {
      "text/plain": [
       "(112330, 12)"
      ]
     },
     "execution_count": 80,
     "metadata": {},
     "output_type": "execute_result"
    }
   ],
   "source": [
    "df_meter = df[df[\"Violat\"] == \"X\"]\n",
    "df_meter.shape"
   ]
  },
  {
   "cell_type": "code",
   "execution_count": 82,
   "metadata": {},
   "outputs": [
    {
     "data": {
      "text/plain": [
       "array([[<matplotlib.axes._subplots.AxesSubplot object at 0x000001814C6DE7F0>,\n",
       "        <matplotlib.axes._subplots.AxesSubplot object at 0x000001814FA6F860>],\n",
       "       [<matplotlib.axes._subplots.AxesSubplot object at 0x000001814FA89630>,\n",
       "        <matplotlib.axes._subplots.AxesSubplot object at 0x000001814FAADBA8>]],\n",
       "      dtype=object)"
      ]
     },
     "execution_count": 82,
     "metadata": {},
     "output_type": "execute_result"
    },
    {
     "data": {
      "image/png": "[encoded data removed]",
      "text/plain": [
       "<Figure size 576x432 with 4 Axes>"
      ]
     },
     "metadata": {
      "needs_background": "light"
     },
     "output_type": "display_data"
    }
   ],
   "source": [
    "df_meter.hist()"
   ]
  },
  {
   "cell_type": "code",
   "execution_count": 83,
   "metadata": {},
   "outputs": [
    {
     "data": {
      "image/png": "[encoded data removed]",
      "text/plain": [
       "<Figure size 576x432 with 1 Axes>"
      ]
     },
     "metadata": {
      "needs_background": "light"
     },
     "output_type": "display_data"
    }
   ],
   "source": [
    "plt.rcParams[\"figure.figsize\"] = (8,6)\n",
    "plot.hist(df_meter[\"Hour\"], bins=24)\n",
    "plot.xticks(np.arange(0, 24))\n",
    "plot.xlabel('Hour of Day');\n",
    "plot.ylabel('Number of Tickets Issued');"
   ]
  },
  {
   "cell_type": "code",
   "execution_count": 86,
   "metadata": {},
   "outputs": [
    {
     "data": {
      "image/png": "[encoded data removed]",
      "text/plain": [
       "<Figure size 576x432 with 1 Axes>"
      ]
     },
     "metadata": {
      "needs_background": "light"
     },
     "output_type": "display_data"
    }
   ],
   "source": [
    "plot.hist(df_meter[\"Time_Flat\"], bins=100);"
   ]
  },
  {
   "cell_type": "code",
   "execution_count": 98,
   "metadata": {},
   "outputs": [
    {
     "data": {
      "image/png": "[encoded data removed]",
      "text/plain": [
       "<Figure size 576x432 with 1 Axes>"
      ]
     },
     "metadata": {
      "needs_background": "light"
     },
     "output_type": "display_data"
    }
   ],
   "source": [
    "plot.hist(df_meter[df_meter[\"Time_Flat\"] > 1000][\"Time_Flat\"], bins=40);\n",
    "plot.xticks(np.linspace(1000, 1400, 10));"
   ]
  },
  {
   "cell_type": "code",
   "execution_count": 102,
   "metadata": {},
   "outputs": [
    {
     "data": {
      "image/png": "[encoded data removed]",
      "text/plain": [
       "<Figure size 576x432 with 1 Axes>"
      ]
     },
     "metadata": {
      "needs_background": "light"
     },
     "output_type": "display_data"
    }
   ],
   "source": [
    "plot.hist(df_meter[(df_meter[\"Time_Flat\"] > 1000)&(df_meter[\"Time_Flat\"] < 1100)][\"Time_Flat\"], bins=40);\n",
    "plot.xticks(np.linspace(1000, 1100, 10));"
   ]
  },
  {
   "cell_type": "code",
   "execution_count": 103,
   "metadata": {},
   "outputs": [],
   "source": [
    "def unflatten_time(t):\n",
    "    return \":\".join(map(str, divmod(t,60)))"
   ]
  },
  {
   "cell_type": "code",
   "execution_count": 104,
   "metadata": {},
   "outputs": [
    {
     "data": {
      "text/plain": [
       "'17:46'"
      ]
     },
     "execution_count": 104,
     "metadata": {},
     "output_type": "execute_result"
    }
   ],
   "source": [
    "unflatten_time(1066)"
   ]
  },
  {
   "cell_type": "code",
   "execution_count": null,
   "metadata": {},
   "outputs": [],
   "source": []
  }
 ],
 "metadata": {
  "kernelspec": {
   "display_name": "Python 3",
   "language": "python",
   "name": "python3"
  },
  "language_info": {
   "codemirror_mode": {
    "name": "ipython",
    "version": 3
   },
   "file_extension": ".py",
   "mimetype": "text/x-python",
   "name": "python",
   "nbconvert_exporter": "python",
   "pygments_lexer": "ipython3",
   "version": "3.7.1"
  }
 },
 "nbformat": 4,
 "nbformat_minor": 2
}
